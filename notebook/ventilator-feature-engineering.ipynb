{
 "cells": [
  {
   "cell_type": "markdown",
   "id": "b45da286",
   "metadata": {
    "papermill": {
     "duration": 0.011378,
     "end_time": "2021-10-04T16:12:06.718616",
     "exception": false,
     "start_time": "2021-10-04T16:12:06.707238",
     "status": "completed"
    },
    "tags": []
   },
   "source": [
    "# Feature engineering\n",
    "One soon realize that in these kind of competitions where many different models are trained on the same data and featureset and compared against each other that is is very usefult to keep feature engineering in a separate notebook."
   ]
  },
  {
   "cell_type": "code",
   "execution_count": 1,
   "id": "d94bcc7d",
   "metadata": {
    "_kg_hide-input": true,
    "_kg_hide-output": true,
    "execution": {
     "iopub.execute_input": "2021-10-04T16:12:06.753621Z",
     "iopub.status.busy": "2021-10-04T16:12:06.752635Z",
     "iopub.status.idle": "2021-10-04T16:12:08.016110Z",
     "shell.execute_reply": "2021-10-04T16:12:08.014970Z",
     "shell.execute_reply.started": "2021-10-04T14:46:32.005196Z"
    },
    "papermill": {
     "duration": 1.286077,
     "end_time": "2021-10-04T16:12:08.016330",
     "exception": false,
     "start_time": "2021-10-04T16:12:06.730253",
     "status": "completed"
    },
    "tags": []
   },
   "outputs": [],
   "source": [
    "import numpy as np\n",
    "import pandas as pd\n",
    "import matplotlib.pyplot as plt\n",
    "from sklearn.preprocessing import RobustScaler, normalize\n",
    "from sklearn.model_selection import train_test_split\n",
    "from scipy.signal import butter,filtfilt\n",
    "from pickle import dump"
   ]
  },
  {
   "cell_type": "markdown",
   "id": "f2ee9680",
   "metadata": {
    "papermill": {
     "duration": 0.011363,
     "end_time": "2021-10-04T16:12:08.037892",
     "exception": false,
     "start_time": "2021-10-04T16:12:08.026529",
     "status": "completed"
    },
    "tags": []
   },
   "source": [
    "Feature engineering in this notebook is modified and copied and from [Improvement base on Tensor Bidirect LSTM](https://www.kaggle.com/kensit/improvement-base-on-tensor-bidirect-lstm-0-173/notebook) by [Ken Sit](https://www.kaggle.com/kensit). Which is further improved by [Chris Deotte](https://www.kaggle.com/cdeotte) in [Ensemble Folds with MEDIAN - [0.153]](https://www.kaggle.com/cdeotte/ensemble-folds-with-median-0-153). It is saved to a python file for use in other notebooks."
   ]
  },
  {
   "cell_type": "code",
   "execution_count": 2,
   "id": "a7e09129",
   "metadata": {
    "execution": {
     "iopub.execute_input": "2021-10-04T16:12:08.065345Z",
     "iopub.status.busy": "2021-10-04T16:12:08.064592Z",
     "iopub.status.idle": "2021-10-04T16:12:20.134053Z",
     "shell.execute_reply": "2021-10-04T16:12:20.133237Z",
     "shell.execute_reply.started": "2021-10-04T14:50:09.486251Z"
    },
    "papermill": {
     "duration": 12.08541,
     "end_time": "2021-10-04T16:12:20.134230",
     "exception": false,
     "start_time": "2021-10-04T16:12:08.048820",
     "status": "completed"
    },
    "tags": []
   },
   "outputs": [],
   "source": [
    "train_ori = pd.read_csv('../data/train.csv')"
   ]
  },
  {
   "cell_type": "code",
   "execution_count": 3,
   "id": "d7718ec1",
   "metadata": {
    "execution": {
     "iopub.execute_input": "2021-10-04T16:12:20.163687Z",
     "iopub.status.busy": "2021-10-04T16:12:20.162809Z",
     "iopub.status.idle": "2021-10-04T16:12:20.169075Z",
     "shell.execute_reply": "2021-10-04T16:12:20.169956Z",
     "shell.execute_reply.started": "2021-10-04T14:50:34.343377Z"
    },
    "papermill": {
     "duration": 0.025899,
     "end_time": "2021-10-04T16:12:20.170239",
     "exception": false,
     "start_time": "2021-10-04T16:12:20.144340",
     "status": "completed"
    },
    "tags": []
   },
   "outputs": [
    {
     "name": "stdout",
     "output_type": "stream",
     "text": [
      "Writing VFE.py\n"
     ]
    }
   ],
   "source": [
    "%%writefile VFE.py\n",
    "\n",
    "import numpy as np\n",
    "import pandas as pd\n",
    "\n",
    "# feature engineering\n",
    "# from: https://www.kaggle.com/cdeotte/ensemble-folds-with-median-0-153\n",
    "def add_features(df):\n",
    "    df['area'] = df['time_step'] * df['u_in']\n",
    "    df['area'] = df.groupby('breath_id')['area'].cumsum()\n",
    "    \n",
    "    df['u_in_cumsum'] = (df['u_in']).groupby(df['breath_id']).cumsum()\n",
    "    \n",
    "    df['u_in_lag1'] = df.groupby('breath_id')['u_in'].shift(1)\n",
    "    df['u_out_lag1'] = df.groupby('breath_id')['u_out'].shift(1)\n",
    "    df['u_in_lag_back1'] = df.groupby('breath_id')['u_in'].shift(-1)\n",
    "    df['u_out_lag_back1'] = df.groupby('breath_id')['u_out'].shift(-1)\n",
    "    df['u_in_lag2'] = df.groupby('breath_id')['u_in'].shift(2)\n",
    "    df['u_out_lag2'] = df.groupby('breath_id')['u_out'].shift(2)\n",
    "    df['u_in_lag_back2'] = df.groupby('breath_id')['u_in'].shift(-2)\n",
    "    df['u_out_lag_back2'] = df.groupby('breath_id')['u_out'].shift(-2)\n",
    "    df['u_in_lag3'] = df.groupby('breath_id')['u_in'].shift(3)\n",
    "    df['u_out_lag3'] = df.groupby('breath_id')['u_out'].shift(3)\n",
    "    df['u_in_lag_back3'] = df.groupby('breath_id')['u_in'].shift(-3)\n",
    "    df['u_out_lag_back3'] = df.groupby('breath_id')['u_out'].shift(-3)\n",
    "    df['u_in_lag4'] = df.groupby('breath_id')['u_in'].shift(4)\n",
    "    df['u_out_lag4'] = df.groupby('breath_id')['u_out'].shift(4)\n",
    "    df['u_in_lag_back4'] = df.groupby('breath_id')['u_in'].shift(-4)\n",
    "    df['u_out_lag_back4'] = df.groupby('breath_id')['u_out'].shift(-4)\n",
    "    df = df.fillna(0)\n",
    "    \n",
    "    df['breath_id__u_in__max'] = df.groupby(['breath_id'])['u_in'].transform('max')\n",
    "    df['breath_id__u_out__max'] = df.groupby(['breath_id'])['u_out'].transform('max')\n",
    "    \n",
    "    df['u_in_diff1'] = df['u_in'] - df['u_in_lag1']\n",
    "    df['u_out_diff1'] = df['u_out'] - df['u_out_lag1']\n",
    "    df['u_in_diff2'] = df['u_in'] - df['u_in_lag2']\n",
    "    df['u_out_diff2'] = df['u_out'] - df['u_out_lag2']\n",
    "    \n",
    "    df['breath_id__u_in__diffmax'] = df.groupby(['breath_id'])['u_in'].transform('max') - df['u_in']\n",
    "    df['breath_id__u_in__diffmean'] = df.groupby(['breath_id'])['u_in'].transform('mean') - df['u_in']\n",
    "    \n",
    "    df['breath_id__u_in__diffmax'] = df.groupby(['breath_id'])['u_in'].transform('max') - df['u_in']\n",
    "    df['breath_id__u_in__diffmean'] = df.groupby(['breath_id'])['u_in'].transform('mean') - df['u_in']\n",
    "    \n",
    "    df['u_in_diff3'] = df['u_in'] - df['u_in_lag3']\n",
    "    df['u_out_diff3'] = df['u_out'] - df['u_out_lag3']\n",
    "    df['u_in_diff4'] = df['u_in'] - df['u_in_lag4']\n",
    "    df['u_out_diff4'] = df['u_out'] - df['u_out_lag4']\n",
    "    df['cross']= df['u_in']*df['u_out']\n",
    "    df['cross2']= df['time_step']*df['u_out']\n",
    "    \n",
    "    df['R'] = df['R'].astype(str)\n",
    "    df['C'] = df['C'].astype(str)\n",
    "    df['R__C'] = df[\"R\"].astype(str) + '__' + df[\"C\"].astype(str)\n",
    "    df = pd.get_dummies(df)\n",
    "    return df"
   ]
  },
  {
   "cell_type": "code",
   "execution_count": 4,
   "metadata": {},
   "outputs": [],
   "source": [
    "from VFE import add_features\n",
    "\n",
    "train = add_features(train_ori)"
   ]
  },
  {
   "cell_type": "code",
   "execution_count": 13,
   "metadata": {},
   "outputs": [
    {
     "data": {
      "text/plain": [
       "(75450, 80)"
      ]
     },
     "execution_count": 13,
     "metadata": {},
     "output_type": "execute_result"
    }
   ],
   "source": [
    "train_u_out = train[['u_out']].to_numpy().reshape(-1, 80)\n",
    "train_u_out.shape"
   ]
  },
  {
   "cell_type": "code",
   "execution_count": 14,
   "id": "dc330ec5",
   "metadata": {
    "execution": {
     "iopub.execute_input": "2021-10-04T16:12:20.202424Z",
     "iopub.status.busy": "2021-10-04T16:12:20.201186Z",
     "iopub.status.idle": "2021-10-04T16:13:02.470563Z",
     "shell.execute_reply": "2021-10-04T16:13:02.469905Z",
     "shell.execute_reply.started": "2021-10-04T14:50:35.365756Z"
    },
    "papermill": {
     "duration": 42.289439,
     "end_time": "2021-10-04T16:13:02.470752",
     "exception": false,
     "start_time": "2021-10-04T16:12:20.181313",
     "status": "completed"
    },
    "tags": []
   },
   "outputs": [],
   "source": [
    "targets = train[['pressure']].to_numpy().reshape(-1, 80)\n",
    "train.drop(['pressure', 'id', 'breath_id'], axis=1, inplace=True)"
   ]
  },
  {
   "cell_type": "code",
   "execution_count": 26,
   "metadata": {},
   "outputs": [],
   "source": [
    "train_zero_flag = train_u_out == 0"
   ]
  },
  {
   "cell_type": "code",
   "execution_count": 5,
   "id": "ce4f2e0d",
   "metadata": {
    "execution": {
     "iopub.execute_input": "2021-10-04T16:13:02.501515Z",
     "iopub.status.busy": "2021-10-04T16:13:02.500782Z",
     "iopub.status.idle": "2021-10-04T16:13:15.920387Z",
     "shell.execute_reply": "2021-10-04T16:13:15.919801Z",
     "shell.execute_reply.started": "2021-10-04T14:51:25.28796Z"
    },
    "papermill": {
     "duration": 13.439138,
     "end_time": "2021-10-04T16:13:15.920549",
     "exception": false,
     "start_time": "2021-10-04T16:13:02.481411",
     "status": "completed"
    },
    "tags": []
   },
   "outputs": [],
   "source": [
    "# normalise the dataset\n",
    "RS = RobustScaler()\n",
    "train = RS.fit_transform(train)\n",
    "\n",
    "# Reshape to group 80 timesteps for each breath ID\n",
    "train = train.reshape(-1, 80, train.shape[-1])"
   ]
  },
  {
   "cell_type": "markdown",
   "id": "670586f8",
   "metadata": {
    "papermill": {
     "duration": 0.009886,
     "end_time": "2021-10-04T16:13:15.941216",
     "exception": false,
     "start_time": "2021-10-04T16:13:15.931330",
     "status": "completed"
    },
    "tags": []
   },
   "source": [
    "The scaler is saved here to pickle, for use in other notebooks."
   ]
  },
  {
   "cell_type": "code",
   "execution_count": 6,
   "id": "ad7b1b89",
   "metadata": {
    "execution": {
     "iopub.execute_input": "2021-10-04T16:13:15.968923Z",
     "iopub.status.busy": "2021-10-04T16:13:15.968003Z",
     "iopub.status.idle": "2021-10-04T16:13:15.970942Z",
     "shell.execute_reply": "2021-10-04T16:13:15.970386Z",
     "shell.execute_reply.started": "2021-10-04T14:51:37.582273Z"
    },
    "papermill": {
     "duration": 0.018707,
     "end_time": "2021-10-04T16:13:15.971119",
     "exception": false,
     "start_time": "2021-10-04T16:13:15.952412",
     "status": "completed"
    },
    "tags": []
   },
   "outputs": [],
   "source": [
    "dump(RS, open('RS.pkl', 'wb'))"
   ]
  },
  {
   "cell_type": "markdown",
   "id": "8fc843ae",
   "metadata": {
    "papermill": {
     "duration": 0.010114,
     "end_time": "2021-10-04T16:13:15.992436",
     "exception": false,
     "start_time": "2021-10-04T16:13:15.982322",
     "status": "completed"
    },
    "tags": []
   },
   "source": [
    "Save to Numpy."
   ]
  },
  {
   "cell_type": "code",
   "execution_count": 7,
   "id": "d36f3283",
   "metadata": {
    "execution": {
     "iopub.execute_input": "2021-10-04T16:13:16.020355Z",
     "iopub.status.busy": "2021-10-04T16:13:16.019029Z",
     "iopub.status.idle": "2021-10-04T16:13:32.205933Z",
     "shell.execute_reply": "2021-10-04T16:13:32.205247Z",
     "shell.execute_reply.started": "2021-10-04T14:52:06.04361Z"
    },
    "papermill": {
     "duration": 16.203247,
     "end_time": "2021-10-04T16:13:32.206147",
     "exception": false,
     "start_time": "2021-10-04T16:13:16.002900",
     "status": "completed"
    },
    "tags": []
   },
   "outputs": [],
   "source": [
    "np.save('x_train.npy', train)\n",
    "np.save('uout_train.npy', train_zero_flag)\n",
    "np.save('y_train.npy', targets)"
   ]
  },
  {
   "cell_type": "code",
   "execution_count": null,
   "id": "d36f3283",
   "metadata": {
    "execution": {
     "iopub.execute_input": "2021-10-04T16:13:16.020355Z",
     "iopub.status.busy": "2021-10-04T16:13:16.019029Z",
     "iopub.status.idle": "2021-10-04T16:13:32.205933Z",
     "shell.execute_reply": "2021-10-04T16:13:32.205247Z",
     "shell.execute_reply.started": "2021-10-04T14:52:06.04361Z"
    },
    "papermill": {
     "duration": 16.203247,
     "end_time": "2021-10-04T16:13:32.206147",
     "exception": false,
     "start_time": "2021-10-04T16:13:16.002900",
     "status": "completed"
    },
    "tags": []
   },
   "outputs": [],
   "source": [
    "np.save('x_train.npy', train)\n",
    "np.save('y_train.npy', targets)"
   ]
  },
  {
   "cell_type": "code",
   "execution_count": null,
   "id": "76374859",
   "metadata": {
    "papermill": {
     "duration": 0.098807,
     "end_time": "2021-10-04T16:13:33.306132",
     "exception": false,
     "start_time": "2021-10-04T16:13:33.207325",
     "status": "completed"
    },
    "tags": []
   },
   "outputs": [],
   "source": []
  }
 ],
 "metadata": {
  "interpreter": {
   "hash": "baac1df5b534c6c9d10e2ae74f8f7c4bc478a3bbfe94ed17a9e730b0b3db48d2"
  },
  "kernelspec": {
   "display_name": "Python 3.7.11 64-bit ('kaggle_pressure': conda)",
   "name": "python3"
  },
  "language_info": {
   "codemirror_mode": {
    "name": "ipython",
    "version": 3
   },
   "file_extension": ".py",
   "mimetype": "text/x-python",
   "name": "python",
   "nbconvert_exporter": "python",
   "pygments_lexer": "ipython3",
   "version": "3.7.11"
  },
  "papermill": {
   "default_parameters": {},
   "duration": 100.013738,
   "end_time": "2021-10-04T16:13:35.507580",
   "environment_variables": {},
   "exception": null,
   "input_path": "__notebook__.ipynb",
   "output_path": "__notebook__.ipynb",
   "parameters": {},
   "start_time": "2021-10-04T16:11:55.493842",
   "version": "2.3.3"
  }
 },
 "nbformat": 4,
 "nbformat_minor": 5
}
