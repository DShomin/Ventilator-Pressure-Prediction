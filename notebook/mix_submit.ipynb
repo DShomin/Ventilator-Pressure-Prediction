{
 "cells": [
  {
   "cell_type": "code",
   "execution_count": 1,
   "id": "46c590c7-f528-400e-b224-bc86f4f73bf4",
   "metadata": {},
   "outputs": [
    {
     "name": "stderr",
     "output_type": "stream",
     "text": [
      "/home/compu/.local/lib/python3.7/site-packages/statsmodels/tools/_testing.py:19: FutureWarning: pandas.util.testing is deprecated. Use the functions in the public API at pandas.testing instead.\n",
      "  import pandas.util.testing as tm\n"
     ]
    }
   ],
   "source": [
    "import pandas as pd\n",
    "import numpy as np\n",
    "import seaborn as sns\n",
    "import matplotlib.pyplot as plt"
   ]
  },
  {
   "cell_type": "code",
   "execution_count": 2,
   "id": "b2c16e79-3f50-46e0-a3d9-2e40d47be851",
   "metadata": {},
   "outputs": [],
   "source": [
    "test = pd.read_csv('../data/test.csv')"
   ]
  },
  {
   "cell_type": "code",
   "execution_count": 5,
   "id": "e05f093e-cff5-479b-91d0-2bffb0e9be55",
   "metadata": {},
   "outputs": [],
   "source": [
    "test_tru_out = (test.u_out.values == 1)\n",
    "test_fal_out = (test.u_out.values == 0)"
   ]
  },
  {
   "cell_type": "code",
   "execution_count": 6,
   "id": "1904d153-8180-4870-a27a-0b6b08af57a8",
   "metadata": {},
   "outputs": [],
   "source": [
    "z_sub = pd.read_csv('./OnZ_submission.csv')\n",
    "f_sub = pd.read_csv('./post_sub.csv')"
   ]
  },
  {
   "cell_type": "code",
   "execution_count": 9,
   "id": "639b2f48-8f6a-4ed3-8c9b-b897ccfc4c9f",
   "metadata": {},
   "outputs": [
    {
     "data": {
      "text/plain": [
       "0"
      ]
     },
     "execution_count": 9,
     "metadata": {},
     "output_type": "execute_result"
    }
   ],
   "source": [
    "z_sub.pressure.max()"
   ]
  },
  {
   "cell_type": "code",
   "execution_count": 10,
   "id": "114880b0-4418-4315-b044-b9de76bcf919",
   "metadata": {},
   "outputs": [
    {
     "data": {
      "text/plain": [
       "0"
      ]
     },
     "execution_count": 10,
     "metadata": {},
     "output_type": "execute_result"
    }
   ],
   "source": [
    "z_sub.pressure.min()"
   ]
  },
  {
   "cell_type": "code",
   "execution_count": 8,
   "id": "1f2b5da8-efaf-4502-91a1-9aa784018615",
   "metadata": {},
   "outputs": [
    {
     "name": "stderr",
     "output_type": "stream",
     "text": [
      "/home/compu/.local/lib/python3.7/site-packages/statsmodels/nonparametric/kde.py:487: RuntimeWarning: invalid value encountered in true_divide\n",
      "  binned = fast_linbin(X, a, b, gridsize) / (delta * nobs)\n",
      "/home/compu/.local/lib/python3.7/site-packages/statsmodels/nonparametric/kdetools.py:34: RuntimeWarning: invalid value encountered in double_scalars\n",
      "  FAC1 = 2*(np.pi*bw/RANGE)**2\n"
     ]
    },
    {
     "data": {
      "text/plain": [
       "<matplotlib.axes._subplots.AxesSubplot at 0x7fd45ea06450>"
      ]
     },
     "execution_count": 8,
     "metadata": {},
     "output_type": "execute_result"
    },
    {
     "data": {
      "image/png": "[encoded data removed]",
      "text/plain": [
       "<Figure size 432x288 with 1 Axes>"
      ]
     },
     "metadata": {
      "needs_background": "light"
     },
     "output_type": "display_data"
    }
   ],
   "source": [
    "sns.distplot(z_sub.pressure)"
   ]
  },
  {
   "cell_type": "code",
   "execution_count": null,
   "id": "84dd0542-ade9-42b3-bf6f-b209f4a9e62d",
   "metadata": {},
   "outputs": [],
   "source": []
  }
 ],
 "metadata": {
  "kernelspec": {
   "display_name": "Python 3 (ipykernel)",
   "language": "python",
   "name": "python3"
  },
  "language_info": {
   "codemirror_mode": {
    "name": "ipython",
    "version": 3
   },
   "file_extension": ".py",
   "mimetype": "text/x-python",
   "name": "python",
   "nbconvert_exporter": "python",
   "pygments_lexer": "ipython3",
   "version": "3.7.11"
  }
 },
 "nbformat": 4,
 "nbformat_minor": 5
}
